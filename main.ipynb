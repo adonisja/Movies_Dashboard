{
 "cells": [
  {
   "cell_type": "code",
   "execution_count": 52,
   "id": "74c7c59b",
   "metadata": {},
   "outputs": [],
   "source": [
    "import pandas as pd\n",
    "import matplotlib.pyplot as pt\n",
    "import numpy as np"
   ]
  },
  {
   "cell_type": "code",
   "execution_count": 53,
   "id": "1f4234cd",
   "metadata": {},
   "outputs": [
    {
     "data": {
      "text/html": [
       "<div>\n",
       "<style scoped>\n",
       "    .dataframe tbody tr th:only-of-type {\n",
       "        vertical-align: middle;\n",
       "    }\n",
       "\n",
       "    .dataframe tbody tr th {\n",
       "        vertical-align: top;\n",
       "    }\n",
       "\n",
       "    .dataframe thead th {\n",
       "        text-align: right;\n",
       "    }\n",
       "</style>\n",
       "<table border=\"1\" class=\"dataframe\">\n",
       "  <thead>\n",
       "    <tr style=\"text-align: right;\">\n",
       "      <th></th>\n",
       "      <th>user_id</th>\n",
       "      <th>movie_id</th>\n",
       "      <th>rating</th>\n",
       "      <th>timestamp</th>\n",
       "      <th>age</th>\n",
       "      <th>gender</th>\n",
       "      <th>occupation</th>\n",
       "      <th>zip_code</th>\n",
       "      <th>title</th>\n",
       "      <th>year</th>\n",
       "      <th>decade</th>\n",
       "      <th>genres</th>\n",
       "      <th>rating_year</th>\n",
       "    </tr>\n",
       "  </thead>\n",
       "  <tbody>\n",
       "    <tr>\n",
       "      <th>0</th>\n",
       "      <td>196</td>\n",
       "      <td>242</td>\n",
       "      <td>3</td>\n",
       "      <td>1997-12-04 15:55:49</td>\n",
       "      <td>49</td>\n",
       "      <td>M</td>\n",
       "      <td>writer</td>\n",
       "      <td>55105</td>\n",
       "      <td>Kolya (1996)</td>\n",
       "      <td>1996.0</td>\n",
       "      <td>1990.0</td>\n",
       "      <td>Comedy</td>\n",
       "      <td>1997</td>\n",
       "    </tr>\n",
       "    <tr>\n",
       "      <th>1</th>\n",
       "      <td>186</td>\n",
       "      <td>302</td>\n",
       "      <td>3</td>\n",
       "      <td>1998-04-04 19:22:22</td>\n",
       "      <td>39</td>\n",
       "      <td>F</td>\n",
       "      <td>executive</td>\n",
       "      <td>00000</td>\n",
       "      <td>L.A. Confidential (1997)</td>\n",
       "      <td>1997.0</td>\n",
       "      <td>1990.0</td>\n",
       "      <td>Crime</td>\n",
       "      <td>1998</td>\n",
       "    </tr>\n",
       "    <tr>\n",
       "      <th>2</th>\n",
       "      <td>186</td>\n",
       "      <td>302</td>\n",
       "      <td>3</td>\n",
       "      <td>1998-04-04 19:22:22</td>\n",
       "      <td>39</td>\n",
       "      <td>F</td>\n",
       "      <td>executive</td>\n",
       "      <td>00000</td>\n",
       "      <td>L.A. Confidential (1997)</td>\n",
       "      <td>1997.0</td>\n",
       "      <td>1990.0</td>\n",
       "      <td>Film-Noir</td>\n",
       "      <td>1998</td>\n",
       "    </tr>\n",
       "    <tr>\n",
       "      <th>3</th>\n",
       "      <td>186</td>\n",
       "      <td>302</td>\n",
       "      <td>3</td>\n",
       "      <td>1998-04-04 19:22:22</td>\n",
       "      <td>39</td>\n",
       "      <td>F</td>\n",
       "      <td>executive</td>\n",
       "      <td>00000</td>\n",
       "      <td>L.A. Confidential (1997)</td>\n",
       "      <td>1997.0</td>\n",
       "      <td>1990.0</td>\n",
       "      <td>Mystery</td>\n",
       "      <td>1998</td>\n",
       "    </tr>\n",
       "    <tr>\n",
       "      <th>4</th>\n",
       "      <td>186</td>\n",
       "      <td>302</td>\n",
       "      <td>3</td>\n",
       "      <td>1998-04-04 19:22:22</td>\n",
       "      <td>39</td>\n",
       "      <td>F</td>\n",
       "      <td>executive</td>\n",
       "      <td>00000</td>\n",
       "      <td>L.A. Confidential (1997)</td>\n",
       "      <td>1997.0</td>\n",
       "      <td>1990.0</td>\n",
       "      <td>Thriller</td>\n",
       "      <td>1998</td>\n",
       "    </tr>\n",
       "  </tbody>\n",
       "</table>\n",
       "</div>"
      ],
      "text/plain": [
       "   user_id  movie_id  rating            timestamp  age gender occupation  \\\n",
       "0      196       242       3  1997-12-04 15:55:49   49      M     writer   \n",
       "1      186       302       3  1998-04-04 19:22:22   39      F  executive   \n",
       "2      186       302       3  1998-04-04 19:22:22   39      F  executive   \n",
       "3      186       302       3  1998-04-04 19:22:22   39      F  executive   \n",
       "4      186       302       3  1998-04-04 19:22:22   39      F  executive   \n",
       "\n",
       "  zip_code                     title    year  decade     genres  rating_year  \n",
       "0    55105              Kolya (1996)  1996.0  1990.0     Comedy         1997  \n",
       "1    00000  L.A. Confidential (1997)  1997.0  1990.0      Crime         1998  \n",
       "2    00000  L.A. Confidential (1997)  1997.0  1990.0  Film-Noir         1998  \n",
       "3    00000  L.A. Confidential (1997)  1997.0  1990.0    Mystery         1998  \n",
       "4    00000  L.A. Confidential (1997)  1997.0  1990.0   Thriller         1998  "
      ]
     },
     "execution_count": 53,
     "metadata": {},
     "output_type": "execute_result"
    }
   ],
   "source": [
    "ratings_df = pd.read_csv('./data/movie_ratings.csv')\n",
    "ratings_df.head()"
   ]
  },
  {
   "cell_type": "code",
   "execution_count": 54,
   "id": "80357dee",
   "metadata": {},
   "outputs": [
    {
     "name": "stdout",
     "output_type": "stream",
     "text": [
      "<class 'pandas.core.frame.DataFrame'>\n",
      "RangeIndex: 212595 entries, 0 to 212594\n",
      "Data columns (total 13 columns):\n",
      " #   Column       Non-Null Count   Dtype  \n",
      "---  ------       --------------   -----  \n",
      " 0   user_id      212595 non-null  int64  \n",
      " 1   movie_id     212595 non-null  int64  \n",
      " 2   rating       212595 non-null  int64  \n",
      " 3   timestamp    212595 non-null  object \n",
      " 4   age          212595 non-null  int64  \n",
      " 5   gender       212595 non-null  object \n",
      " 6   occupation   212595 non-null  object \n",
      " 7   zip_code     212595 non-null  object \n",
      " 8   title        212595 non-null  object \n",
      " 9   year         212559 non-null  float64\n",
      " 10  decade       212559 non-null  float64\n",
      " 11  genres       212595 non-null  object \n",
      " 12  rating_year  212595 non-null  int64  \n",
      "dtypes: float64(2), int64(5), object(6)\n",
      "memory usage: 21.1+ MB\n"
     ]
    }
   ],
   "source": [
    "ratings_df.info()"
   ]
  },
  {
   "cell_type": "code",
   "execution_count": 55,
   "id": "1c4e15ad",
   "metadata": {},
   "outputs": [
    {
     "data": {
      "text/html": [
       "<div>\n",
       "<style scoped>\n",
       "    .dataframe tbody tr th:only-of-type {\n",
       "        vertical-align: middle;\n",
       "    }\n",
       "\n",
       "    .dataframe tbody tr th {\n",
       "        vertical-align: top;\n",
       "    }\n",
       "\n",
       "    .dataframe thead th {\n",
       "        text-align: right;\n",
       "    }\n",
       "</style>\n",
       "<table border=\"1\" class=\"dataframe\">\n",
       "  <thead>\n",
       "    <tr style=\"text-align: right;\">\n",
       "      <th></th>\n",
       "      <th>user_id</th>\n",
       "      <th>movie_id</th>\n",
       "      <th>rating</th>\n",
       "      <th>timestamp</th>\n",
       "      <th>age</th>\n",
       "      <th>gender</th>\n",
       "      <th>occupation</th>\n",
       "      <th>zip_code</th>\n",
       "      <th>title</th>\n",
       "      <th>year</th>\n",
       "      <th>decade</th>\n",
       "      <th>genres</th>\n",
       "      <th>rating_year</th>\n",
       "    </tr>\n",
       "  </thead>\n",
       "  <tbody>\n",
       "    <tr>\n",
       "      <th>0</th>\n",
       "      <td>196</td>\n",
       "      <td>242</td>\n",
       "      <td>3</td>\n",
       "      <td>1997-12-04 15:55:49</td>\n",
       "      <td>49</td>\n",
       "      <td>M</td>\n",
       "      <td>writer</td>\n",
       "      <td>55105</td>\n",
       "      <td>Kolya (1996)</td>\n",
       "      <td>1996.0</td>\n",
       "      <td>1990.0</td>\n",
       "      <td>Comedy</td>\n",
       "      <td>1997</td>\n",
       "    </tr>\n",
       "    <tr>\n",
       "      <th>1</th>\n",
       "      <td>186</td>\n",
       "      <td>302</td>\n",
       "      <td>3</td>\n",
       "      <td>1998-04-04 19:22:22</td>\n",
       "      <td>39</td>\n",
       "      <td>F</td>\n",
       "      <td>executive</td>\n",
       "      <td>00000</td>\n",
       "      <td>L.A. Confidential (1997)</td>\n",
       "      <td>1997.0</td>\n",
       "      <td>1990.0</td>\n",
       "      <td>Crime</td>\n",
       "      <td>1998</td>\n",
       "    </tr>\n",
       "    <tr>\n",
       "      <th>2</th>\n",
       "      <td>186</td>\n",
       "      <td>302</td>\n",
       "      <td>3</td>\n",
       "      <td>1998-04-04 19:22:22</td>\n",
       "      <td>39</td>\n",
       "      <td>F</td>\n",
       "      <td>executive</td>\n",
       "      <td>00000</td>\n",
       "      <td>L.A. Confidential (1997)</td>\n",
       "      <td>1997.0</td>\n",
       "      <td>1990.0</td>\n",
       "      <td>Film-Noir</td>\n",
       "      <td>1998</td>\n",
       "    </tr>\n",
       "    <tr>\n",
       "      <th>3</th>\n",
       "      <td>186</td>\n",
       "      <td>302</td>\n",
       "      <td>3</td>\n",
       "      <td>1998-04-04 19:22:22</td>\n",
       "      <td>39</td>\n",
       "      <td>F</td>\n",
       "      <td>executive</td>\n",
       "      <td>00000</td>\n",
       "      <td>L.A. Confidential (1997)</td>\n",
       "      <td>1997.0</td>\n",
       "      <td>1990.0</td>\n",
       "      <td>Mystery</td>\n",
       "      <td>1998</td>\n",
       "    </tr>\n",
       "    <tr>\n",
       "      <th>4</th>\n",
       "      <td>186</td>\n",
       "      <td>302</td>\n",
       "      <td>3</td>\n",
       "      <td>1998-04-04 19:22:22</td>\n",
       "      <td>39</td>\n",
       "      <td>F</td>\n",
       "      <td>executive</td>\n",
       "      <td>00000</td>\n",
       "      <td>L.A. Confidential (1997)</td>\n",
       "      <td>1997.0</td>\n",
       "      <td>1990.0</td>\n",
       "      <td>Thriller</td>\n",
       "      <td>1998</td>\n",
       "    </tr>\n",
       "  </tbody>\n",
       "</table>\n",
       "</div>"
      ],
      "text/plain": [
       "   user_id  movie_id  rating           timestamp  age gender occupation  \\\n",
       "0      196       242       3 1997-12-04 15:55:49   49      M     writer   \n",
       "1      186       302       3 1998-04-04 19:22:22   39      F  executive   \n",
       "2      186       302       3 1998-04-04 19:22:22   39      F  executive   \n",
       "3      186       302       3 1998-04-04 19:22:22   39      F  executive   \n",
       "4      186       302       3 1998-04-04 19:22:22   39      F  executive   \n",
       "\n",
       "  zip_code                     title    year  decade     genres  rating_year  \n",
       "0    55105              Kolya (1996)  1996.0  1990.0     Comedy         1997  \n",
       "1    00000  L.A. Confidential (1997)  1997.0  1990.0      Crime         1998  \n",
       "2    00000  L.A. Confidential (1997)  1997.0  1990.0  Film-Noir         1998  \n",
       "3    00000  L.A. Confidential (1997)  1997.0  1990.0    Mystery         1998  \n",
       "4    00000  L.A. Confidential (1997)  1997.0  1990.0   Thriller         1998  "
      ]
     },
     "execution_count": 55,
     "metadata": {},
     "output_type": "execute_result"
    }
   ],
   "source": [
    "# convert 'timestamp' column to datetime and format as YYYY-MM-DD\n",
    "ratings_df['timestamp'] = pd.to_datetime(ratings_df['timestamp'])\n",
    "ratings_df.head()"
   ]
  },
  {
   "cell_type": "code",
   "execution_count": 56,
   "id": "e0fe6bbf",
   "metadata": {},
   "outputs": [
    {
     "name": "stdout",
     "output_type": "stream",
     "text": [
      "<class 'pandas.core.frame.DataFrame'>\n",
      "RangeIndex: 212595 entries, 0 to 212594\n",
      "Data columns (total 13 columns):\n",
      " #   Column       Non-Null Count   Dtype         \n",
      "---  ------       --------------   -----         \n",
      " 0   user_id      212595 non-null  int64         \n",
      " 1   movie_id     212595 non-null  int64         \n",
      " 2   rating       212595 non-null  int64         \n",
      " 3   timestamp    212595 non-null  datetime64[ns]\n",
      " 4   age          212595 non-null  int64         \n",
      " 5   gender       212595 non-null  category      \n",
      " 6   occupation   212595 non-null  object        \n",
      " 7   zip_code     212595 non-null  object        \n",
      " 8   title        212595 non-null  object        \n",
      " 9   year         212559 non-null  float64       \n",
      " 10  decade       212559 non-null  float64       \n",
      " 11  genre        212595 non-null  object        \n",
      " 12  rating_year  212595 non-null  int64         \n",
      "dtypes: category(1), datetime64[ns](1), float64(2), int64(5), object(4)\n",
      "memory usage: 19.7+ MB\n"
     ]
    }
   ],
   "source": [
    "ratings_df['gender'] = ratings_df['gender'].astype('category')\n",
    "ratings_df = ratings_df.rename(columns={'genres': 'genre'})\n",
    "ratings_df.info()"
   ]
  },
  {
   "cell_type": "code",
   "execution_count": 57,
   "id": "1d069aa4",
   "metadata": {},
   "outputs": [
    {
     "data": {
      "text/plain": [
       "year\n",
       "1996.0    37505\n",
       "1997.0    33760\n",
       "1995.0    25229\n",
       "1994.0    18046\n",
       "1993.0    12778\n",
       "          ...  \n",
       "1943.0       45\n",
       "1936.0       39\n",
       "1932.0       24\n",
       "1930.0       18\n",
       "1926.0        2\n",
       "Name: count, Length: 71, dtype: int64"
      ]
     },
     "execution_count": 57,
     "metadata": {},
     "output_type": "execute_result"
    }
   ],
   "source": [
    "ratings_df['year'].value_counts().sort_values(ascending=False)"
   ]
  },
  {
   "cell_type": "code",
   "execution_count": null,
   "id": "9a5da86c",
   "metadata": {},
   "outputs": [
    {
     "name": "stdout",
     "output_type": "stream",
     "text": [
      "<class 'pandas.core.frame.DataFrame'>\n",
      "Index: 212559 entries, 0 to 212594\n",
      "Data columns (total 13 columns):\n",
      " #   Column       Non-Null Count   Dtype         \n",
      "---  ------       --------------   -----         \n",
      " 0   user_id      212559 non-null  int64         \n",
      " 1   movie_id     212559 non-null  int64         \n",
      " 2   rating       212559 non-null  int64         \n",
      " 3   timestamp    212559 non-null  datetime64[ns]\n",
      " 4   age          212559 non-null  int64         \n",
      " 5   gender       212559 non-null  category      \n",
      " 6   occupation   212559 non-null  object        \n",
      " 7   zip_code     212559 non-null  object        \n",
      " 8   title        212559 non-null  object        \n",
      " 9   year         212559 non-null  int64         \n",
      " 10  decade       212559 non-null  float64       \n",
      " 11  genre        212559 non-null  object        \n",
      " 12  rating_year  212559 non-null  int64         \n",
      "dtypes: category(1), datetime64[ns](1), float64(1), int64(6), object(4)\n",
      "memory usage: 21.3+ MB\n"
     ]
    }
   ],
   "source": [
    "ratings_df = ratings_df[~ratings_df['year'].isin(['nan', '', '-', ' '])]\n",
    "ratings_df = ratings_df[ratings_df['year'].notna()]\n",
    "ratings_df['year'] = ratings_df['year'].astype(float).astype(int)"
   ]
  },
  {
   "cell_type": "code",
   "execution_count": 59,
   "id": "34af4a71",
   "metadata": {},
   "outputs": [
    {
     "data": {
      "text/plain": [
       "<Axes: xlabel='year'>"
      ]
     },
     "execution_count": 59,
     "metadata": {},
     "output_type": "execute_result"
    },
    {
     "data": {
      "image/png": "[encoded data removed]",
      "text/plain": [
       "<Figure size 1200x600 with 1 Axes>"
      ]
     },
     "metadata": {},
     "output_type": "display_data"
    }
   ],
   "source": [
    "ratings_df['year'].value_counts().sort_index().plot(kind='bar', figsize=(12, 6))"
   ]
  },
  {
   "cell_type": "code",
   "execution_count": 61,
   "id": "27179d03",
   "metadata": {},
   "outputs": [
    {
     "name": "stdout",
     "output_type": "stream",
     "text": [
      "<class 'pandas.core.frame.DataFrame'>\n",
      "Index: 212559 entries, 0 to 212594\n",
      "Data columns (total 13 columns):\n",
      " #   Column       Non-Null Count   Dtype         \n",
      "---  ------       --------------   -----         \n",
      " 0   user_id      212559 non-null  int64         \n",
      " 1   movie_id     212559 non-null  int64         \n",
      " 2   rating       212559 non-null  int64         \n",
      " 3   timestamp    212559 non-null  datetime64[ns]\n",
      " 4   age          212559 non-null  int64         \n",
      " 5   gender       212559 non-null  category      \n",
      " 6   occupation   212559 non-null  object        \n",
      " 7   zip_code     212559 non-null  object        \n",
      " 8   title        212559 non-null  object        \n",
      " 9   year         212559 non-null  int64         \n",
      " 10  decade       212559 non-null  float64       \n",
      " 11  genre        212559 non-null  object        \n",
      " 12  rating_year  212559 non-null  int64         \n",
      "dtypes: category(1), datetime64[ns](1), float64(1), int64(6), object(4)\n",
      "memory usage: 21.3+ MB\n"
     ]
    }
   ],
   "source": [
    "ratings_df.info()\n",
    "ratings_df.to_csv('./data/cleaned_movie_ratings.csv', index=False)"
   ]
  },
  {
   "cell_type": "code",
   "execution_count": 62,
   "id": "eddc956c",
   "metadata": {},
   "outputs": [
    {
     "name": "stdout",
     "output_type": "stream",
     "text": [
      "<class 'pandas.core.frame.DataFrame'>\n",
      "RangeIndex: 212559 entries, 0 to 212558\n",
      "Data columns (total 13 columns):\n",
      " #   Column       Non-Null Count   Dtype  \n",
      "---  ------       --------------   -----  \n",
      " 0   user_id      212559 non-null  int64  \n",
      " 1   movie_id     212559 non-null  int64  \n",
      " 2   rating       212559 non-null  int64  \n",
      " 3   timestamp    212559 non-null  object \n",
      " 4   age          212559 non-null  int64  \n",
      " 5   gender       212559 non-null  object \n",
      " 6   occupation   212559 non-null  object \n",
      " 7   zip_code     212559 non-null  object \n",
      " 8   title        212559 non-null  object \n",
      " 9   year         212559 non-null  int64  \n",
      " 10  decade       212559 non-null  float64\n",
      " 11  genre        212559 non-null  object \n",
      " 12  rating_year  212559 non-null  int64  \n",
      "dtypes: float64(1), int64(6), object(6)\n",
      "memory usage: 21.1+ MB\n"
     ]
    }
   ],
   "source": [
    "cleaned_movie_ratings_df = pd.read_csv('./data/cleaned_movie_ratings.csv')\n",
    "cleaned_movie_ratings_df.info()"
   ]
  }
 ],
 "metadata": {
  "kernelspec": {
   "display_name": ".venv",
   "language": "python",
   "name": "python3"
  },
  "language_info": {
   "codemirror_mode": {
    "name": "ipython",
    "version": 3
   },
   "file_extension": ".py",
   "mimetype": "text/x-python",
   "name": "python",
   "nbconvert_exporter": "python",
   "pygments_lexer": "ipython3",
   "version": "3.13.7"
  }
 },
 "nbformat": 4,
 "nbformat_minor": 5
}
